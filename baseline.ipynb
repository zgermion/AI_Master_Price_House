{
 "cells": [
  {
   "cell_type": "markdown",
   "id": "ecb09e30-3ebd-4eb1-91cd-25672ac74473",
   "metadata": {},
   "source": [
    "### Работа выполнил: Зеленин Герман Евгеньевич"
   ]
  },
  {
   "cell_type": "markdown",
   "id": "ba994e7f-0b29-42a2-9628-b3d472edf813",
   "metadata": {},
   "source": [
    "Импортируем необходимые библиотеки"
   ]
  },
  {
   "cell_type": "code",
   "execution_count": 2,
   "id": "5db05e52-91e5-4d21-83ee-c2f5ae6a6134",
   "metadata": {},
   "outputs": [],
   "source": [
    "import numpy as np\n",
    "import pandas as pd\n",
    "import matplotlib.pyplot as plt\n",
    "import seaborn as sns\n",
    "from scipy import stats "
   ]
  },
  {
   "cell_type": "markdown",
   "id": "7dd22b53-9986-4307-b715-ac1964cc5272",
   "metadata": {},
   "source": [
    "Загружаем датасет"
   ]
  },
  {
   "cell_type": "code",
   "execution_count": 3,
   "id": "a7c165c3-15ec-417e-91e6-0dac70b5bb8c",
   "metadata": {},
   "outputs": [],
   "source": [
    "data_train = pd.read_csv('./data/train.csv')\n",
    "data_test = pd.read_csv('./data/test.csv')"
   ]
  },
  {
   "cell_type": "markdown",
   "id": "5993d3af-3f28-4b4e-b624-dfeaaa622eca",
   "metadata": {},
   "source": [
    "Идея 1: Выделить год, в который квартира продавалась"
   ]
  },
  {
   "cell_type": "code",
   "execution_count": 4,
   "id": "7ada27d4-7510-4e29-93c7-4e2cdd53ec45",
   "metadata": {},
   "outputs": [],
   "source": [
    "year_list = list()\n",
    "for i in range(data_train.shape[0]):\n",
    "    year_list.append(int(data_train['timestamp'][i][:4]))\n",
    "data_train['year'] = year_list"
   ]
  },
  {
   "cell_type": "code",
   "execution_count": 5,
   "id": "58bdf982-8d95-47b5-a0d6-8e89392cfaca",
   "metadata": {},
   "outputs": [],
   "source": [
    "year_list = list()\n",
    "for i in range(data_test.shape[0]):\n",
    "    year_list.append(int(data_test['timestamp'][i][:4]))\n",
    "data_test['year'] = year_list"
   ]
  },
  {
   "cell_type": "code",
   "execution_count": 6,
   "id": "bdbfbe86-b960-448d-a623-4b2e0f37bfcd",
   "metadata": {},
   "outputs": [],
   "source": [
    "del data_train['timestamp']\n",
    "del data_test['timestamp']"
   ]
  },
  {
   "cell_type": "markdown",
   "id": "c998e2e7-7983-4b8c-81b4-5b73819151f0",
   "metadata": {},
   "source": [
    "Идея зашла и модель улучшилась.\n",
    "\n",
    "Гипотеза: месяц так же будет улучшать модель. Не проверял"
   ]
  },
  {
   "cell_type": "markdown",
   "id": "68066ac1-2f85-4b0b-af3d-7578cefaafd0",
   "metadata": {},
   "source": [
    "Логарифмируем цену. Показалось, что качество становится лучше."
   ]
  },
  {
   "cell_type": "code",
   "execution_count": 7,
   "id": "09a35608-c235-4a71-88cf-727995b420ba",
   "metadata": {},
   "outputs": [],
   "source": [
    "data_train['result_price'] = np.log1p(data_train['result_price'])"
   ]
  },
  {
   "cell_type": "markdown",
   "id": "57f48a7d-f96b-4deb-b063-d8742acaee85",
   "metadata": {},
   "source": [
    "Выделил не категориальные признаки и начал чистку"
   ]
  },
  {
   "cell_type": "code",
   "execution_count": 8,
   "id": "ed35a933-b634-46f3-a928-b9808c1dbd66",
   "metadata": {},
   "outputs": [],
   "source": [
    "columns = ['kitchen_area',\n",
    " 'kremlin_distance',\n",
    " 'base_school_distance',\n",
    " 'office_count',\n",
    " 'rooms_num',\n",
    " 'state',\n",
    " 'floors_num',\n",
    " 'road_distance_2',\n",
    " 'wall_material',\n",
    " 'railway_station_distance',\n",
    " 'district_area',\n",
    " 'green_part',\n",
    " 'bulvar_ring_km',\n",
    " 'living_area',\n",
    " 'leisure_count',\n",
    " 'cafe_count',\n",
    " 'malls_count',\n",
    " 'sport_count',\n",
    " 'healthcare_centers_count',\n",
    " 'park_distance',\n",
    " 'district_population',\n",
    " 'mkad_distance',\n",
    " 'sadovoe_km',\n",
    " 'road_distance_1',\n",
    " 'bus_station_distance',\n",
    " 'green_zone_distance',\n",
    " 'public_transport_station_distance',\n",
    " 'floor',\n",
    " 'fitness_center_distance',\n",
    " 'total_area',\n",
    " 'market_count']"
   ]
  },
  {
   "cell_type": "markdown",
   "id": "bf6f3ebb-e713-4886-a3a7-8cf96ac77d8e",
   "metadata": {},
   "source": [
    "Выбор следующих чисел обусловлен изучением графиков. Удалил из-за слишком большого места.\n"
   ]
  },
  {
   "cell_type": "code",
   "execution_count": 9,
   "id": "f4989901-f9c7-43af-b11b-5c9cfbf85919",
   "metadata": {},
   "outputs": [],
   "source": [
    "data_train = data_train.drop(data_train[(data_train[columns[0]] > 25) | (data_train['result_price'] < 13)].index)\n",
    "i = 1\n",
    "data_train = data_train.drop(data_train[(data_train[columns[1]] > 45) | (data_train['result_price'] < 13.5)].index)\n",
    "i = 2\n",
    "data_train = data_train.drop(data_train[(data_train[columns[i]] > 16) | (data_train['result_price'] < 13.5)].index)\n",
    "i = 4\n",
    "data_train = data_train.drop(data_train[(data_train[columns[i]] > 5) | (data_train['result_price'] < 13.5) | (data_train[columns[i]] < 1)].index)\n",
    "i = 5\n",
    "data_train = data_train.drop(data_train[(data_train[columns[i]] > 30) | (data_train['result_price'] < 13.5)].index)\n",
    "i = 6\n",
    "data_train = data_train.drop(data_train[(data_train[columns[i]] > 50) | (data_train['result_price'] < 13)].index)\n",
    "i = 7\n",
    "data_train = data_train.drop(data_train[(data_train[columns[i]] > 12) | (data_train['result_price'] < 13)].index)\n",
    "i = 8\n",
    "data_train = data_train.drop(data_train[(data_train[columns[i]] == 3) | (data_train['result_price'] < 13)].index)\n",
    "i = 13\n",
    "data_train = data_train.drop(data_train[(data_train[columns[i]] > 175) | (data_train['result_price'] < 13)].index)\n",
    "i = 19\n",
    "data_train = data_train.drop(data_train[(data_train[columns[i]] > 20) | (data_train['result_price'] < 13)].index)\n",
    "i = 21\n",
    "data_train = data_train.drop(data_train[(data_train[columns[i]] > 30) | (data_train['result_price'] > 18)].index)\n",
    "i = 24\n",
    "data_train = data_train.drop(data_train[(data_train[columns[i]] > 37) | (data_train['result_price'] > 18)].index)\n",
    "i = 26\n",
    "data_train = data_train.drop(data_train[(data_train[columns[i]] > 60) | (data_train['result_price'] > 18)].index)\n",
    "i = 27\n",
    "data_train = data_train.drop(data_train[(data_train[columns[i]] > 40) | (data_train['result_price'] < 13)].index)\n",
    "i = 28\n",
    "data_train = data_train.drop(data_train[(data_train[columns[i]] > 8) | (data_train['result_price'] < 13)].index)\n",
    "i = 29\n",
    "data_train = data_train.drop(data_train[(data_train[columns[i]] > 300) | (data_train['result_price'] < 13)].index)"
   ]
  },
  {
   "cell_type": "markdown",
   "id": "e67e46f5-4a53-4ea7-80d9-81b4f5062dba",
   "metadata": {},
   "source": [
    "Пример такого графика"
   ]
  },
  {
   "cell_type": "code",
   "execution_count": 11,
   "id": "00d995c2-c8fe-4c60-8e5a-1515986b2d7d",
   "metadata": {},
   "outputs": [
    {
     "data": {
      "image/png": "[encoded data removed]",
      "text/plain": [
       "<Figure size 432x288 with 1 Axes>"
      ]
     },
     "metadata": {
      "needs_background": "light"
     },
     "output_type": "display_data"
    }
   ],
   "source": [
    "fig, ax = plt.subplots()\n",
    "ax.scatter(x = data_train[columns[0]], y = data_train['result_price'])\n",
    "plt.ylabel('result_price', fontsize=13)\n",
    "plt.xlabel('features', fontsize=13)\n",
    "plt.show()"
   ]
  },
  {
   "cell_type": "markdown",
   "id": "914cff08-58e4-49da-8abf-bd2a840c3d0f",
   "metadata": {},
   "source": [
    "Идея №2: В большом количестве строчек не было указано года постройки дома. Гипотеза состояла в том, что изменение NaN на среднее по району, а не по всей Москве, улучшит ситуацию, но как показала практика, стало только хуже..."
   ]
  },
  {
   "cell_type": "code",
   "execution_count": 12,
   "id": "30c65596-cbd7-4377-aa98-59553daf72b2",
   "metadata": {},
   "outputs": [],
   "source": [
    "# all_district = list(data_train['district_name'].unique())\n",
    "\n",
    "# mean_year = {}\n",
    "\n",
    "# for name_district in all_district:\n",
    "#     mean_year[name_district] = round(data_train[(data_train['district_name'] == name_district) & (data_train[\"year_of_construction\"]>=1500) & (data_train[\"year_of_construction\"]<2050)]['year_of_construction'].mean())\n",
    "\n",
    "# bad_row = list(data_train[(data_train['year_of_construction'].isnull()) | (data_train[\"year_of_construction\"]<=1500) | (data_train[\"year_of_construction\"]>=2050)][\"id\"])\n",
    "\n",
    "# all_row = list(data_train[\"id\"])\n",
    "\n",
    "# new_column_year = list()\n",
    "\n",
    "\n",
    "# for i in all_row:\n",
    "#     if i in bad_row:\n",
    "#         new_column_year.append(mean_year[data_train[data_train[\"id\"] == i][\"district_name\"].describe()[\"top\"]])\n",
    "#     else:\n",
    "#         new_column_year.append(data_train[data_train[\"id\"] == i][\"year_of_construction\"].mean())\n",
    "        \n",
    "# del data_train['year_of_construction']\n",
    "# data_train['year_of_construction'] = new_column_year"
   ]
  },
  {
   "cell_type": "code",
   "execution_count": 13,
   "id": "2f6376be-caf3-42f3-80b2-e14e2879fee8",
   "metadata": {},
   "outputs": [],
   "source": [
    "# all_district = list(data_test['district_name'].unique())\n",
    "\n",
    "# bad_row = list(data_test[(data_test['year_of_construction'].isnull()) | (data_test[\"year_of_construction\"]<=1500) | (data_test[\"year_of_construction\"]>=2050)][\"id\"])\n",
    "\n",
    "# all_row = list(data_test[\"id\"])\n",
    "\n",
    "# new_column_year = list()\n",
    "\n",
    "\n",
    "# for i in all_row:\n",
    "#     if i in bad_row:\n",
    "#         if data_test[data_test[\"id\"] == i][\"district_name\"].describe()[\"top\"] in list(mean_year.keys()):\n",
    "#             new_column_year.append(mean_year[data_test[data_test[\"id\"] == i][\"district_name\"].describe()[\"top\"]])\n",
    "#         else:\n",
    "#             new_column_year.append(1985)\n",
    "#     else:\n",
    "#         new_column_year.append(data_test[data_test[\"id\"] == i][\"year_of_construction\"].mean())\n",
    "        \n",
    "# del data_test['year_of_construction']\n",
    "# data_test['year_of_construction'] = new_column_year"
   ]
  },
  {
   "cell_type": "markdown",
   "id": "8db8abca-ffcf-48b6-826c-5c0baabbd872",
   "metadata": {},
   "source": [
    "Идея №3: Заменить Nan state так же средним по району. Гипотеза провалилась."
   ]
  },
  {
   "cell_type": "code",
   "execution_count": 14,
   "id": "2768a097-1919-45f3-b029-6c8e2a698726",
   "metadata": {},
   "outputs": [],
   "source": [
    "# all_district = list(data_train['district_name'].unique())\n",
    "\n",
    "# mean_state = {}\n",
    "\n",
    "# for name_district in all_district:\n",
    "#     mean_state[name_district] = round(data_train[(data_train['district_name'] == name_district)]['state'].mean())\n",
    "\n",
    "# bad_row = list(data_train[(data_train['state'].isnull())][\"id\"])\n",
    "\n",
    "# all_row = list(data_train[\"id\"])\n",
    "\n",
    "# new_column_state = list()\n",
    "\n",
    "\n",
    "# for i in all_row:\n",
    "#     if i in bad_row:\n",
    "#         new_column_state.append(mean_state[data_train[data_train[\"id\"] == i][\"district_name\"].describe()[\"top\"]])\n",
    "#     else:\n",
    "#         new_column_state.append(data_train[data_train[\"id\"] == i][\"state\"].mean())\n",
    "\n",
    "# del data_train['state']\n",
    "# data_train['state'] = new_column_state"
   ]
  },
  {
   "cell_type": "code",
   "execution_count": 15,
   "id": "b1a027f3-ee27-4e86-b225-935e925c2423",
   "metadata": {},
   "outputs": [],
   "source": [
    "# all_district = list(data_test['district_name'].unique())\n",
    "\n",
    "# bad_row = list(data_test[(data_test['state'].isnull())][\"id\"])\n",
    "\n",
    "# all_row = list(data_test[\"id\"])\n",
    "\n",
    "# new_column_state = list()\n",
    "\n",
    "\n",
    "# for i in all_row:\n",
    "#     if i in bad_row:\n",
    "#         if data_test[data_test[\"id\"] == i][\"district_name\"].describe()[\"top\"] in list(mean_state.keys()):\n",
    "#             new_column_state.append(mean_state[data_test[data_test[\"id\"] == i][\"district_name\"].describe()[\"top\"]])\n",
    "#         else:\n",
    "#             new_column_state.append(1985)\n",
    "#     else:\n",
    "#         new_column_state.append(data_test[data_test[\"id\"] == i][\"state\"].mean())\n",
    "        \n",
    "# del data_test['state']\n",
    "# data_test['state'] = new_column_state"
   ]
  },
  {
   "cell_type": "markdown",
   "id": "0cf90687-dd4b-423e-8336-bd722217d046",
   "metadata": {},
   "source": [
    "Идея 4: При изучении данных было обнаружено, что total_area указана во всех данных, однако много пропусков в rooms_num, kitchen_area, living_area. Попробовал заменить Nan в rooms_num согласно следующему правилу. Оно было установлено после изучения средних total_area по rooms_num и поиску в интернете)))"
   ]
  },
  {
   "cell_type": "markdown",
   "id": "4deaadfb-5257-410f-95b7-5a74bed63e5f",
   "metadata": {},
   "source": [
    "0 - 43 - 1 комнатная\n",
    "\n",
    "43 - 63.5 - 2 комнатная\n",
    "\n",
    "63.5 - 87 - 3 комнатная\n",
    "\n",
    "87 - 106.5 - 4 комнатная\n",
    "\n",
    "106.5 > - 5 комнатная"
   ]
  },
  {
   "cell_type": "code",
   "execution_count": 15,
   "id": "61aeb8d2-1a9e-4f91-bb96-5f1b11a55f6b",
   "metadata": {},
   "outputs": [],
   "source": [
    "list_new_column = list()\n",
    "for i in range(data_train.shape[0]):\n",
    "    if np.isnan(data_train.iloc[i]['rooms_num']):\n",
    "        total_area = data_train.iloc[i]['total_area']\n",
    "        if 0<=total_area<=43:\n",
    "            list_new_column.append(1)\n",
    "        if 43<total_area<=63.5:\n",
    "            list_new_column.append(2)\n",
    "        if 63.5<total_area<=87:\n",
    "            list_new_column.append(3)\n",
    "        if 87<total_area<=106.5:\n",
    "            list_new_column.append(4)\n",
    "        if 106.5<total_area:\n",
    "            list_new_column.append(5)\n",
    "    else:\n",
    "        total_area = data_train.iloc[i]['rooms_num']\n",
    "        list_new_column.append(total_area)"
   ]
  },
  {
   "cell_type": "code",
   "execution_count": 16,
   "id": "dcf21b7c-4ff0-4ea1-ba5d-e2c06b76b351",
   "metadata": {},
   "outputs": [],
   "source": [
    "del data_train[\"rooms_num\"]\n",
    "data_train['rooms_num'] = list_new_column"
   ]
  },
  {
   "cell_type": "markdown",
   "id": "46a4fdd6-4e4a-4a2f-a165-6bf42ac2ea7d",
   "metadata": {},
   "source": [
    "Такая идея сработала, не проверял на  kitchen_area, living_area. Остальные данные заполнил просто средними или UNKNOWS, если признак категориальный"
   ]
  },
  {
   "cell_type": "code",
   "execution_count": 22,
   "id": "f48cbd5a-09c0-48ba-b67a-ff5addfa10de",
   "metadata": {},
   "outputs": [],
   "source": [
    "def HandleMissingValues(df):\n",
    "    num_cols = [cname for cname in df.columns if df[cname].dtype in ['int64', 'float64']]\n",
    "    cat_cols = [cname for cname in df.columns if df[cname].dtype == \"object\"]\n",
    "    values = {}\n",
    "    for a in cat_cols:\n",
    "        values[a] = 'UNKNOWN'\n",
    "\n",
    "    for a in num_cols:\n",
    "        values[a] = df[a].median()\n",
    "        \n",
    "    df.fillna(value=values, inplace=True)\n",
    "    \n",
    "    \n",
    "HandleMissingValues(data_train)\n",
    "HandleMissingValues(data_test)"
   ]
  },
  {
   "cell_type": "markdown",
   "id": "62da7b6a-4aca-4ec5-a452-dc208ff09a2a",
   "metadata": {},
   "source": [
    "Идея 5: добавить среднюю цену по району. Очень хорошо помогло."
   ]
  },
  {
   "cell_type": "code",
   "execution_count": 23,
   "id": "aaf7155e-6db9-4b18-aca5-86590853bbd1",
   "metadata": {},
   "outputs": [],
   "source": [
    "mean_price = {}"
   ]
  },
  {
   "cell_type": "code",
   "execution_count": 24,
   "id": "28c5a067-bcd5-4f18-be67-d75679ea4a56",
   "metadata": {},
   "outputs": [],
   "source": [
    "all_district = list(data_train['district_name'].unique())"
   ]
  },
  {
   "cell_type": "code",
   "execution_count": 25,
   "id": "e53c626e-4f3a-43e0-8ae7-9b8359aceb9d",
   "metadata": {},
   "outputs": [],
   "source": [
    "for name_district in all_district:\n",
    "    mean_price[name_district] = data_train[data_train['district_name'] == name_district]['result_price'].mean()"
   ]
  },
  {
   "cell_type": "code",
   "execution_count": 26,
   "id": "a5acebe0-4de3-4bc1-9417-6da48fe62746",
   "metadata": {},
   "outputs": [],
   "source": [
    "list_new_column = list()\n",
    "for i in range(data_train.shape[0]):\n",
    "    name = data_train.iloc[i]['district_name']\n",
    "    list_new_column.append(mean_price[name])"
   ]
  },
  {
   "cell_type": "code",
   "execution_count": 27,
   "id": "bd7ecd64-ae0f-4b4f-aa69-0faa9b967dac",
   "metadata": {},
   "outputs": [],
   "source": [
    "data_train['mean_price'] = list_new_column"
   ]
  },
  {
   "cell_type": "code",
   "execution_count": 28,
   "id": "61ef99fc-8a3a-4d17-8437-7eb2efd2cf6a",
   "metadata": {},
   "outputs": [],
   "source": [
    "list_new_column = list()\n",
    "for i in range(data_test.shape[0]):\n",
    "    name = data_test.iloc[i]['district_name']\n",
    "    if name in mean_price.keys():\n",
    "        list_new_column.append(mean_price[name])\n",
    "    else:\n",
    "        list_new_column.append(14.7)"
   ]
  },
  {
   "cell_type": "code",
   "execution_count": 29,
   "id": "b14b26d0-9a3f-4f1e-a304-23c891c246a4",
   "metadata": {},
   "outputs": [],
   "source": [
    "data_test['mean_price'] = list_new_column"
   ]
  },
  {
   "cell_type": "markdown",
   "id": "1323bba9-87c1-4ae9-8445-5226a083edb9",
   "metadata": {},
   "source": [
    "Идея 6: добавить плотность населения. кажется, что не принесло особо хороших результатов. без улучшений"
   ]
  },
  {
   "cell_type": "code",
   "execution_count": 30,
   "id": "75013428-5ca3-4682-b098-f876516a217a",
   "metadata": {},
   "outputs": [],
   "source": [
    "people_per_district = {}"
   ]
  },
  {
   "cell_type": "code",
   "execution_count": 31,
   "id": "9c3bd426-f19d-4d5e-a1e9-22ff93c5e74d",
   "metadata": {},
   "outputs": [],
   "source": [
    "for name_district in all_district:\n",
    "    people_per_district[name_district] = data_train[data_train['district_name'] == name_district]['district_population'].mean()/data_train[data_train['district_name'] == name_district]['district_area'].mean()"
   ]
  },
  {
   "cell_type": "code",
   "execution_count": 32,
   "id": "f8bece6f-21f4-4ae9-b0f7-62959d9e4098",
   "metadata": {},
   "outputs": [],
   "source": [
    "list_new_column = list()\n",
    "for i in range(data_train.shape[0]):\n",
    "    name = data_train.iloc[i]['district_name']\n",
    "    list_new_column.append(people_per_district[name])"
   ]
  },
  {
   "cell_type": "code",
   "execution_count": 33,
   "id": "655b60e2-1076-4b82-90f5-5fffeb819a35",
   "metadata": {},
   "outputs": [],
   "source": [
    "data_train['people_per_district'] = list_new_column"
   ]
  },
  {
   "cell_type": "code",
   "execution_count": 34,
   "id": "81fd95e1-57c1-4794-b829-02e6f775c1ea",
   "metadata": {},
   "outputs": [],
   "source": [
    "list_new_column = list()\n",
    "for i in range(data_test.shape[0]):\n",
    "    name = data_test.iloc[i]['district_name']\n",
    "    if name in mean_price.keys():\n",
    "        list_new_column.append(people_per_district[name])\n",
    "    else:\n",
    "        list_new_column.append(0.001)"
   ]
  },
  {
   "cell_type": "code",
   "execution_count": 35,
   "id": "672be55b-81cc-4e33-abee-eaf5584ed983",
   "metadata": {},
   "outputs": [],
   "source": [
    "data_test['people_per_district'] = list_new_column"
   ]
  },
  {
   "cell_type": "code",
   "execution_count": 36,
   "id": "e6962174-8271-4fc5-a237-24a0c81df40a",
   "metadata": {},
   "outputs": [],
   "source": [
    "del data_train['district_name']\n",
    "del data_train['district_area']\n",
    "del data_train['district_population']\n",
    "\n",
    "del data_test['district_name']\n",
    "del data_test['district_area']\n",
    "del data_test['district_population']"
   ]
  },
  {
   "cell_type": "markdown",
   "id": "41048141-a2e1-4cd6-b481-ce4e70780f72",
   "metadata": {},
   "source": [
    "Переводим категориальные в бинарные"
   ]
  },
  {
   "cell_type": "code",
   "execution_count": 39,
   "id": "4d03b271-8b19-452b-835e-5407c4d6ec25",
   "metadata": {},
   "outputs": [],
   "source": [
    "def getObjectColumnsList(df):\n",
    "    return [cname for cname in df.columns if df[cname].dtype == \"object\"]\n",
    "\n",
    "def PerformOneHotEncoding(df, columnsToEncode):\n",
    "    return pd.get_dummies(df, columns=columnsToEncode)\n",
    "\n",
    "cat_cols = getObjectColumnsList(data_train)\n",
    "data_train = PerformOneHotEncoding(data_train, cat_cols)\n",
    "data_test = PerformOneHotEncoding(data_test, cat_cols)"
   ]
  },
  {
   "cell_type": "code",
   "execution_count": 41,
   "id": "300185a2-4e52-430f-8d9b-bd6d941605d0",
   "metadata": {},
   "outputs": [],
   "source": [
    "del data_train['id']"
   ]
  },
  {
   "cell_type": "markdown",
   "id": "90263b50-49b9-4026-94f4-ffec9a92aedf",
   "metadata": {},
   "source": [
    "METRIC"
   ]
  },
  {
   "cell_type": "markdown",
   "id": "f2472b6e-b40e-4194-b81c-82f2b2f60165",
   "metadata": {},
   "source": [
    "Задаем функцию для подсчета RMSLE, а так же функцию для катбуста. Была взяла с хабра: https://habr.com/ru/sandbox/163469/"
   ]
  },
  {
   "cell_type": "code",
   "execution_count": 43,
   "id": "3646a520-b18f-4bc7-b231-cab5000b060c",
   "metadata": {},
   "outputs": [],
   "source": [
    "def metric_RMSLE(y, y_hat, N):\n",
    "    print(np.sqrt(sum((np.log1p(y+1)-np.log1p(y_hat+1))*(np.log1p(y+1)-np.log1p(y_hat+1)))/N))"
   ]
  },
  {
   "cell_type": "code",
   "execution_count": 44,
   "id": "5379eca6-959e-43a6-a820-99888809bff8",
   "metadata": {},
   "outputs": [],
   "source": [
    "import math\n",
    "class RMSLE(object):\n",
    "    def calc_ders_range(self, approxes, targets, weights):\n",
    "        assert len(approxes) == len(targets)\n",
    "        if weights is not None:\n",
    "            assert len(weights) == len(approxes)\n",
    "\n",
    "        result = []\n",
    "        for index in range(len(targets)):\n",
    "            val = max(approxes[index], 0)\n",
    "            der1 = math.log1p(targets[index]) - math.log1p(max(0, approxes[index]))\n",
    "            der2 = -1 / (max(0, approxes[index]) + 1)\n",
    "\n",
    "            if weights is not None:\n",
    "                der1 *= weights[index]\n",
    "                der2 *= weights[index]\n",
    "\n",
    "            result.append((der1, der2))\n",
    "        return result\n",
    "class RMSLE_val(object):\n",
    "    def get_final_error(self, error, weight):\n",
    "        return np.sqrt(error / (weight + 1e-38))\n",
    "\n",
    "    def is_max_optimal(self):\n",
    "        return False\n",
    "\n",
    "    def evaluate(self, approxes, target, weight):\n",
    "        assert len(approxes) == 1\n",
    "        assert len(target) == len(approxes[0])\n",
    "\n",
    "        approx = approxes[0]\n",
    "\n",
    "        error_sum = 0.0\n",
    "        weight_sum = 0.0\n",
    "\n",
    "        for i in range(len(approx)):\n",
    "            w = 1.0 if weight is None else weight[i]\n",
    "            weight_sum += w\n",
    "            error_sum += w * ((math.log1p(max(0, approx[i])) - math.log1p(max(0, target[i])))**2)\n",
    "\n",
    "        return error_sum, weight_sum"
   ]
  },
  {
   "cell_type": "markdown",
   "id": "b403689a-e0a9-4d75-888f-495e3afc1e73",
   "metadata": {},
   "source": [
    "В КЕГЛ"
   ]
  },
  {
   "cell_type": "markdown",
   "id": "2d96ba4f-ef7c-4d56-851c-2716ea016279",
   "metadata": {},
   "source": [
    "Подгружаем катбуст, получаем все данные для обычения"
   ]
  },
  {
   "cell_type": "code",
   "execution_count": 43,
   "id": "a8de2663-99d2-4216-9a81-fffc79a3cd8d",
   "metadata": {},
   "outputs": [],
   "source": [
    "import catboost as cb\n",
    "from catboost import CatBoostRegressor"
   ]
  },
  {
   "cell_type": "code",
   "execution_count": 42,
   "id": "76591218-9d35-4500-b6a9-2c15f7f7565e",
   "metadata": {},
   "outputs": [],
   "source": [
    "X_train = data_train[list(set(list(data_train.columns))-set(['result_price']))]\n",
    "y_train = data_train['result_price']"
   ]
  },
  {
   "cell_type": "code",
   "execution_count": 44,
   "id": "c398293f-a839-44b4-ac42-96f9e8b03290",
   "metadata": {},
   "outputs": [],
   "source": [
    "X_test = data_test[list(set(list(data_train.columns))-set(['result_price']))]"
   ]
  },
  {
   "cell_type": "markdown",
   "id": "cc3e0c4b-56ce-445a-ab22-3c5f91f65a73",
   "metadata": {},
   "source": [
    "Запускаем катбуст с перебором параметров:"
   ]
  },
  {
   "cell_type": "code",
   "execution_count": null,
   "id": "c7054724-bc19-4fd9-81d1-0600cd74bdd9",
   "metadata": {},
   "outputs": [],
   "source": [
    "import catboost as cb\n",
    "from catboost import CatBoostRegressor\n",
    "train_dataset = cb.Pool(X_train, y_train) \n",
    "\n",
    "model = CatBoostRegressor(iterations=3000,\n",
    "                          early_stopping_rounds=100,\n",
    "                          grow_policy = 'Depthwise',\n",
    "                          depth=8,\n",
    "                          loss_function=RMSLE(),\n",
    "                          l2_leaf_reg = 1,\n",
    "                          learning_rate=0.03,\n",
    "                          verbose=10,\n",
    "                          eval_metric=RMSLE_val())\n",
    "\n",
    "grid = {'iterations': [100, 150, 200],\n",
    "        'learning_rate': [0.03, 0.1],\n",
    "        'depth': [2, 4, 6, 8],\n",
    "        'l2_leaf_reg': [0.05, 0.1, 0.2, 0.5, 1, 3]}\n",
    "model.grid_search(grid, train_dataset)"
   ]
  },
  {
   "cell_type": "markdown",
   "id": "0d791748-f07c-4098-8463-5db0e500c114",
   "metadata": {},
   "source": [
    "Получем его предикт"
   ]
  },
  {
   "cell_type": "code",
   "execution_count": 46,
   "id": "3bcbd18a-c288-447f-b8cc-290a3e068a30",
   "metadata": {},
   "outputs": [],
   "source": [
    "pred = model.predict(X_test)\n",
    "y_hat_cat_boost = np.exp(pred)"
   ]
  },
  {
   "cell_type": "markdown",
   "id": "f949451a-e324-4219-b2b0-6d72bb93a53a",
   "metadata": {},
   "source": [
    "Обучаем xgboost"
   ]
  },
  {
   "cell_type": "code",
   "execution_count": 47,
   "id": "5ce4c7b8-426a-44f4-bb33-89b65c292e04",
   "metadata": {},
   "outputs": [],
   "source": [
    "import xgboost as xgb\n",
    "\n",
    "model_xgb = xgb.XGBRegressor(n_estimators=340, max_depth=2, learning_rate=0.2)\n",
    "model_xgb.fit(X_train, y_train)\n",
    "xgb_preds = model_xgb.predict(X_test)"
   ]
  },
  {
   "cell_type": "markdown",
   "id": "92b4b746-24e3-4d3a-aacf-59cf97bf227b",
   "metadata": {},
   "source": [
    "Обучаем lightgbm"
   ]
  },
  {
   "cell_type": "code",
   "execution_count": null,
   "id": "09c0037e-edc9-4605-bcae-1dd1af955124",
   "metadata": {},
   "outputs": [],
   "source": [
    "from lightgbm import LGBMRegressor\n",
    "\n",
    "model_LGBM = LGBMRegressor(objective='regression',\n",
    "                        num_leaves=166,\n",
    "                        learning_rate=0.05, \n",
    "                        n_estimators=120,\n",
    "                        max_bin = 55, \n",
    "                        bagging_fraction = 0.8,\n",
    "                        bagging_freq = 5, \n",
    "                        feature_fraction = 0.2319,\n",
    "                        feature_fraction_seed=9, \n",
    "                        bagging_seed=9,\n",
    "                        min_data_in_leaf =6, \n",
    "                        min_sum_hessian_in_leaf = 11)\n",
    "\n",
    "model_LGBM.fit(X_train, y_train)\n",
    "\n",
    "predicted_y = model_LGBM.predict(X_test)"
   ]
  },
  {
   "cell_type": "markdown",
   "id": "7cdbfaf9-802b-4062-a24d-44749488d86c",
   "metadata": {},
   "source": [
    "Собираем как средние трех результатов"
   ]
  },
  {
   "cell_type": "code",
   "execution_count": 219,
   "id": "a0ebdf56-b737-4bef-8c96-bdf5ba55a171",
   "metadata": {},
   "outputs": [],
   "source": [
    "id_column = data_test[\"id\"]\n",
    "result_column = (y_hat_cat_boost+np.exp(xgb_preds) + np.exp(predicted_y))/3\n",
    "dataset = pd.DataFrame({'id': id_column, 'result_price': list(result_column)}, columns=['id', 'result_price'])"
   ]
  },
  {
   "cell_type": "code",
   "execution_count": 220,
   "id": "1691daf3-3ecd-4703-9b0e-37aa63d55ac0",
   "metadata": {},
   "outputs": [],
   "source": [
    "dataset.to_csv(\"sample_submission.csv\", index=False)"
   ]
  }
 ],
 "metadata": {
  "kernelspec": {
   "display_name": "Python 3 (ipykernel)",
   "language": "python",
   "name": "python3"
  },
  "language_info": {
   "codemirror_mode": {
    "name": "ipython",
    "version": 3
   },
   "file_extension": ".py",
   "mimetype": "text/x-python",
   "name": "python",
   "nbconvert_exporter": "python",
   "pygments_lexer": "ipython3",
   "version": "3.9.7"
  }
 },
 "nbformat": 4,
 "nbformat_minor": 5
}
